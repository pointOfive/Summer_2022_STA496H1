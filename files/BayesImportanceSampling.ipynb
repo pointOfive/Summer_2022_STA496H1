{
 "cells": [
  {
   "cell_type": "markdown",
   "metadata": {},
   "source": [
    "0. For target distribution $p(\\theta|x)$ (a posterior), and proposal distribution $p(\\theta)$ (a prior), show that the normalized importance weights for importance sampling are proportional to $f(x|\\theta)$ (the likelihood).\n",
    "\n",
    "  > Hint: Monte Carlo integration of $g(\\theta) p(\\theta|x)$ can be based on importance sampling with the prior $p(\\theta)$ as the proposal distribution since\n",
    "  > $$\\int g(\\theta) p(\\theta|x) d\\theta = \\int g(\\theta) \\frac{p(\\theta)}{p(\\theta)} p(\\theta|x) d\\theta $$\n",
    "\n",
    "  1. Why might it be better to use unnormalized importance weights in the above context?\n",
    "  2. Are there any conditions that the prior should satisfy to be a good proposal distribution?\n",
    "\n",
    "  > Reading: [Chapter 6.4.1 Importance Sampling (Givens/Hoeting)](https://librarysearch.library.utoronto.ca/permalink/01UTORONTO_INST/14bjeso/alma991106781097906196)"
   ]
  },
  {
   "cell_type": "markdown",
   "metadata": {},
   "source": []
  }
 ],
 "metadata": {
  "kernelspec": {
   "display_name": "Python 3",
   "language": "python",
   "name": "python3"
  },
  "language_info": {
   "codemirror_mode": {
    "name": "ipython",
    "version": 3
   },
   "file_extension": ".py",
   "mimetype": "text/x-python",
   "name": "python",
   "nbconvert_exporter": "python",
   "pygments_lexer": "ipython3",
   "version": "3.7.6"
  }
 },
 "nbformat": 4,
 "nbformat_minor": 4
}
