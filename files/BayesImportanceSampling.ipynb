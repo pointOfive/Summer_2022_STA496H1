{
 "cells": [
  {
   "cell_type": "markdown",
   "metadata": {},
   "source": [
    "0. For target distribution $p(\\theta|x)$ (a posterior), and proposal distribution $p(\\theta)$ (a prior), show that the normalized importance weights for importance sampling are proportional to $f(x|\\theta)$ (the likelihood).\n",
    "\n",
    "  > Hint: Monte Carlo integration of $g(\\theta) p(\\theta|x)$ can be based on importance sampling with the prior $p(\\theta)$ as the proposal distribution since\n",
    "  > $$\\int g(\\theta) p(\\theta|x) d\\theta = \\int g(\\theta)  \\frac{p(\\theta)}{p(\\theta)} p(\\theta|x) d\\theta $$\n",
    "\n",
    "1. Are there any conditions that the prior should satisfy to be a good proposal distribution?\n",
    "\n",
    "2. What are the strengths of the unnormalized importance weights that might make them better for a given application context?  \n",
    "  \n",
    "   1. What precisely is the difference between unnormalized and normalized importance weights?\n",
    "   2. What is the computational difference between the mathematical forms of these importance weights? I.e., what can be said about the marginal likelihood with respect to unnormalized and normalized importance weights and what does that mean, computationally?\n",
    "\n",
    "  > Hint: the bias characterization in eq. 6.42 of [Chapter 6.4.1 Importance Sampling (Givens/Hoeting)](https://librarysearch.library.utoronto.ca/permalink/01UTORONTO_INST/14bjeso/alma991106781097906196) and the [general wisdom](https://en.wikipedia.org/wiki/Marginal_likelihood) that \"Unfortunately, marginal likelihoods are generally difficult to compute\" are the key considerations for all these questions.\n",
    "\n",
    "3. Importance Sampling is often presented as a variance reduction technique. Since our desire is to produce a (weighted) sample representation of the posterior, we do not immediately have an estimates for which variance reduction might apply; however, Bayesian credible intervals are based on percentile ranks within posterior samples, so might we expect variance reduction with respect to our estimates of Bayesian credible intervals? \n",
    "\n"
   ]
  },
  {
   "cell_type": "markdown",
   "metadata": {},
   "source": []
  },
  {
   "cell_type": "code",
   "execution_count": null,
   "metadata": {},
   "outputs": [],
   "source": []
  }
 ],
 "metadata": {
  "kernelspec": {
   "display_name": "Python 3 (ipykernel)",
   "language": "python",
   "name": "python3"
  },
  "language_info": {
   "codemirror_mode": {
    "name": "ipython",
    "version": 3
   },
   "file_extension": ".py",
   "mimetype": "text/x-python",
   "name": "python",
   "nbconvert_exporter": "python",
   "pygments_lexer": "ipython3",
   "version": "3.9.5"
  }
 },
 "nbformat": 4,
 "nbformat_minor": 4
}
