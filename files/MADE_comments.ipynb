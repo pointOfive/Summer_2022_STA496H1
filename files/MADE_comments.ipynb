{
 "cells": [
  {
   "cell_type": "code",
   "execution_count": 6,
   "metadata": {
    "id": "imecUVSy_L89"
   },
   "outputs": [],
   "source": [
    "import numpy as np\n",
    "import matplotlib.pyplot as plt\n",
    "import tensorflow as tf\n",
    "import tensorflow_probability as tfp\n",
    "tfd = tfp.distributions"
   ]
  },
  {
   "cell_type": "code",
   "execution_count": 7,
   "metadata": {
    "colab": {
     "base_uri": "https://localhost:8080/",
     "height": 283
    },
    "id": "bVI_2Ivc_QvN",
    "outputId": "9e5b375c-bd2f-49b3-8763-e16f512acc19"
   },
   "outputs": [
    {
     "data": {
      "text/plain": [
       "[<matplotlib.lines.Line2D at 0x7f6d1dbfba90>]"
      ]
     },
     "execution_count": 7,
     "metadata": {},
     "output_type": "execute_result"
    },
    {
     "data": {
      "image/png": "[encoded data removed]",
      "text/plain": [
       "<Figure size 432x288 with 1 Axes>"
      ]
     },
     "metadata": {
      "needs_background": "light"
     },
     "output_type": "display_data"
    }
   ],
   "source": [
    "k = 1\n",
    "b = 5\n",
    "x_min = -50\n",
    "x_max = 50\n",
    "\n",
    "n = 150\n",
    "\n",
    "def aleatoric(x): # variablity function for a particular x\n",
    "  r = (x - x_min) / (x_max - x_min)\n",
    "  return 2 * r\n",
    "\n",
    "def generate_data(n):\n",
    "  x = (x_max - x_min) * np.random.rand(n) + x_min \n",
    "  noise = np.random.randn(n) * aleatoric(x)\n",
    "  y = (k * x * (1 + np.sin(x)) + b) + noise   # add some non-linearity and noise\n",
    "  x = x[..., np.newaxis] # convert to N * 1 matrix\n",
    "  return x, y\n",
    "\n",
    "x_train, y_train = generate_data(n)\n",
    "x_test, y_test = generate_data(n)\n",
    "\n",
    "plt.figure()\n",
    "plt.plot(x_train, y_train, \"b.\")"
   ]
  },
  {
   "cell_type": "code",
   "execution_count": 8,
   "metadata": {
    "id": "LaYHqIXp_Zrp"
   },
   "outputs": [],
   "source": [
    "# Make posterior/prior function\n",
    "\n",
    "# Specify the surrogate posterior over `keras.layers.Dense` `kernel` and `bias`.\n",
    "def posterior_mean_field(kernel_size, bias_size=0, dtype=None):\n",
    "  n = kernel_size + bias_size\n",
    "  c = np.log(np.expm1(1.))\n",
    "  return tf.keras.Sequential([\n",
    "      tfp.layers.VariableLayer(2 * n, dtype=dtype),\n",
    "      tfp.layers.DistributionLambda(lambda t: tfd.Independent(\n",
    "          tfd.Normal(loc =t[..., :n],\n",
    "                     scale = 0.2 + tf.nn.softplus(c + t[..., n:])),\n",
    "                     #scale = 200 + tf.nn.softplus(c + t[..., n:])), # for experimenting\n",
    "          reinterpreted_batch_ndims=1)),\n",
    "  ])\n",
    "\n",
    "# Specify the prior over `keras.layers.Dense` `kernel` and `bias`.\n",
    "def prior_trainable(kernel_size, bias_size=0, dtype=None):\n",
    "  n = kernel_size + bias_size\n",
    "  return tf.keras.Sequential([\n",
    "      tfp.layers.VariableLayer(n, dtype=dtype),\n",
    "      tfp.layers.DistributionLambda(lambda t: tfd.Independent(\n",
    "          tfd.Normal(loc=t, scale=1),\n",
    "          reinterpreted_batch_ndims=1)),\n",
    "  ])\n",
    "\n",
    "# To use `bias_size=0` when these are passed to `tfp.layers.DenseVariational`\n",
    "# also pass `use_bias=False` to `tfp.layers.DenseVariational`"
   ]
  },
  {
   "cell_type": "markdown",
   "metadata": {
    "id": "13oIXFTRNBxA"
   },
   "source": [
    "The prior and likelihood specification \n",
    "\n",
    "- $p(\\theta) = MVN(\\theta_0,I)$ with $f(\\theta_0) \\propto 1$\n",
    "- $p(y|\\theta,x) = N(\\beta_0 + \\beta_1 x, 3)$ with $\\theta = (\\beta_0, \\beta_1)$\n",
    "\n",
    "admit posterior approximation using [*mean-field* *variational inference*](https://math.stackexchange.com/questions/308149/what-is-the-meaning-of-mean-field) with\n",
    "\n",
    "- $q(\\theta) = N( \\theta',\\text{diag}(\\sigma'))$ with $f( \\theta', \\sigma') \\propto 1$ \n",
    "  - which minimizes $ KL [ \\;q(\\theta) \\;|| \\;p(\\theta|y) \\;]$\n",
    "  - i.e., which  approximates $p(\\theta|y)$ with $q(\\theta)$\n",
    "\n",
    "where the *mean-field* descriptor simply indicates the independent specification of $q(\\theta)$.\n",
    "\n",
    "The equation from which *variational inference* generally arises may be simply derived as\n",
    "\n",
    "$\n",
    "\\begin{align*}\n",
    "\\log p(y) = {} & \\int \\log p(y) q(\\theta) d\\theta \\\\\n",
    "= {} & \\int \\log \\frac{p(\\theta,y)}{p(\\theta|y)} \\frac{q(\\theta)}{q(\\theta)} q(\\theta) d\\theta = \\int \\log \\frac{p(y|\\theta)p(\\theta)}{p(\\theta|y)} \\frac{q(\\theta)}{q(\\theta)} q(\\theta) d\\theta \\\\\n",
    "= {} & \\underbrace{\\int \\log p(y|\\theta) q(\\theta) d\\theta }_{E_{q(\\theta)}[\\log p(y|\\theta)]} + KL[\\, q(\\theta) \\, || \\, p(\\theta|y) \\,]  - KL[\\, q(\\theta) \\, || \\, p(\\theta) \\,] \n",
    "\\end{align*}\n",
    "$\n",
    "\n",
    "and should be viewed as the precise manifestation of a relatively intuitive expectation about a decomposition of $\\log p(y)$ using $E_{q(\\theta)}[\\log p(y|\\theta)]$; namely,\n",
    "the injection of the alien term $q(\\theta) \\approx p(\\theta|y)$ is not coherrent with the probability structure $p(y,\\theta)$ but by appropriatly triangulating $p(\\theta), p(\\theta|y),$ and $q(\\theta)$, adjusted values of $q(\\theta)$ may be brought into coherrence with $p(y,\\theta)$. Specifically, this is done with \n",
    "\n",
    "1. a correction factor for the approximation $q(\\theta) \\approx p(\\theta|y)$ itself\n",
    "  - which disappears if $q(\\theta)$ perfectly approximates $p(\\theta|y)$\n",
    "  - but in general means $E_{p(\\theta|y)}[\\log p(y|\\theta)] \\not = E_{q(\\theta)}[\\log p(y|\\theta)]$\n",
    "\n",
    "2. a correction factor for wrongly integrating over $q(\\theta) \\approx p(\\theta|y) \\not = p(\\theta)$\n",
    "  - since $\\log p(y) = E_{p(\\theta)}[\\log p(y|\\theta)] \\not =  E_{p(\\theta|y)}[\\log p(y|\\theta)].$\n",
    "\n",
    "> The triangulation is necessary because the pairwise relationships are not enough to coherently resolve $q(\\theta)$ with $p(y,\\theta)$.\n",
    "- E.g., $E_{p(\\theta|y)}[\\log p(y|\\theta)]$ cannot be generally derived from \n",
    "$E_{q(\\theta)}[\\log p(y|\\theta)]$ and the KL-divergence term $KL[\\, q(\\theta) \\, || \\, p(\\theta|y) \\,]$; rather,\n",
    "- it is the interplay of the prior and posterior KL-divergence terms which allows $\\log p(y) = E_{p(\\theta)}[\\log p(y|\\theta)]$ to be resolved in terms of $E_{q(\\theta)}[\\log p(y|\\theta)]$.\n",
    "\n",
    "*Variational inference* notes that since the marginal likelihood is a fixed value\n",
    "\n",
    "$$\\log p(y) = E_{q(\\theta)}[\\log p(y|\\theta)] - KL[\\, q(\\theta) \\, || \\, p(\\theta) \\,] + KL[\\, q(\\theta) \\, || \\, p(\\theta|y) \\,] $$\n",
    "\n",
    "smaller values for $KL[\\, q(\\theta) \\, || \\, p(\\theta|y) \\,]$, i.e., \n",
    "better approximations $q(\\theta)$ of $p(\\theta|y)$ will result in a balance between\n",
    "- larger the expected log likelihood under $q(\\theta)$: $E_{q(\\theta)}[\\log p(y|\\theta)]$\n",
    "- smaller difference between $q(\\theta)$ and $p(\\theta)$: $KL[\\, q(\\theta) \\, || \\, p(\\theta) \\,]$\n",
    "\n",
    "Thus the objectives\n",
    "\n",
    "$$\\min_q KL[\\, q(\\theta) \\, || \\, p(\\theta|y) \\,] \\quad \\text{ and } \\quad \\max_q E_{q(\\theta)}[\\log p(y|\\theta)] - KL[\\, q(\\theta) \\, || \\, p(\\theta) \\,]$$\n",
    "\n",
    "are equivalent.\n",
    "\n",
    "> *Variational inference* is often alternatively derived in terms of the Evidence Lower BOund, i.e., the ELBO$(q)$, using Jensen's inequality\n",
    ">\n",
    "> $$\n",
    "\\begin{align*}\n",
    "\\log p(y) = {} & \\log \\int p(y,\\theta) \\frac{q(\\theta)}{q(\\theta)} d\\theta &={}&  \\log \\int  p(y|\\theta)\\frac{p(\\theta)}{q(\\theta)} q(\\theta) d\\theta \\\\\n",
    "= {} & \\log E_{q(\\theta)}\\left[ p(y,\\theta)\\frac{1}{q(\\theta)} \\right]  &={}&  \\log E_{q(\\theta)}\\left[ p(y|\\theta)\\frac{p(\\theta)}{q(\\theta)} \\right]\\\\\n",
    "\\geq {} & E_{q(\\theta)}\\left[ \\log p(y,\\theta)\\frac{1}{q(\\theta)} \\right] &={} & E_{q(\\theta)}\\left[ \\log p(y|\\theta)\\frac{p(\\theta)}{q(\\theta)} \\right] \\\\\n",
    "= {} & \\underbrace{E_{q(\\theta)}[ \\log p(y,\\theta)] - E_{q(\\theta)}[ \\log q(\\theta)]}_{\\text{ELBO}(q)} &={} & \\underbrace{E_{q(\\theta)}[ \\log p(y|\\theta)] - KL[\\, q(\\theta) \\, || \\, p(\\theta) \\,]}_{\\text{ELBO}(q)}\n",
    "\\end{align*}\n",
    "$$\n",
    ">\n",
    "> and can be expressed in terms of only expectations or include a KL-divergence term.  Using the latter version, since this was previously derived above, Jensen's inequality guarantees that the marginal likelihood, i.e., the \"Evidence\", will have the *Lower BOund*\n",
    ">\n",
    "> $$\\log p(y) \\geq \\text{ELBO}(q) = E_{q(\\theta)}[ \\log p(y|\\theta)] - KL[\\, q(\\theta) \\, || \\, p(\\theta) \\,]$$\n",
    ">\n",
    "> where, from the first equality derived above, the discrepancy can be seen to be $KL[\\, q(\\theta) \\, || \\, p(\\theta|y) \\,]$. Thus, again,\n",
    ">\n",
    "> $$\\max_q \\text{ELBO}(q) \\quad \\text{ is equivalent to } \\quad \\min_q KL[\\, q(\\theta) \\, || \\, p(\\theta|y) \\,]$$\n",
    "> which justifies pursuing $\\text{ELBO}(q)$ as the objective for the purposes of *variational inference*.\n",
    "\n",
    "> Another, sort of \"reverse\" approach to this derivation is to begin with the approximation\n",
    "> \n",
    "> $$\n",
    "\\begin{align*}\n",
    "KL[\\, q(\\theta) \\, || \\,  p(\\theta|y) \\, ] = {} & \\int \\log \\frac{q(\\theta)}{p(\\theta|y)}q(\\theta)d\\theta\\\\\n",
    "= {} & \\int \\log \\frac{q(\\theta)p(y)}{p(y|\\theta)p(\\theta)}q(\\theta) d\\theta\\\\\n",
    "= {} & \\log p(y) + \\int \\log \\frac{q(\\theta)}{p(\\theta)}q(\\theta) d\\theta - \\int \\log p(y|\\theta) q(\\theta) d\\theta \\\\\n",
    "= {} & \\log p(y) + \\overbrace{\\underbrace{KL[\\, q(\\theta) \\, || \\,  p(\\theta) \\, ]}_{\\text{minimize positive number}} \\underbrace{- \\int \\log p(y|\\theta) q(\\theta) d\\theta}_{\\text{maximize log lik. under $q(\\theta)$}}}^{\\text{negative Evidence Lower BOund for $q(\\theta)$, i.e., $-$ELBO$(q)$}} \\\\\n",
    "\\end{align*}\n",
    "$$\n",
    ">\n",
    "> and notice that \n",
    "> - the ELBO$(q)$ inequality derives from the fact that the initial KL-divergence term must be non-negative. \n",
    "> - to minimize the righthand side (and hence lefthand side) the objective function is\n",
    ">\n",
    "> $$\\min_q - \\text{ELBO}(q) \\quad \\text{ which is equivalent to } \\quad \\max_q \\text{ELBO}(q)$$"
   ]
  },
  {
   "cell_type": "markdown",
   "metadata": {
    "id": "hqs9oXnuYpPb"
   },
   "source": [
    "It is this final derivation which can be seen in the specification below as\n",
    "\n",
    "- from the [documentation](https://www.tensorflow.org/probability/api_docs/python/tfp/layers/DenseVariational), the `call` and `_make_kl_divergence_penalty` functions defined in the [source code](https://github.com/tensorflow/probability/blob/v0.13.0/tensorflow_probability/python/layers/dense_variational_v2.py#L26-L145) indicate that when a `DenseVariational` layer is passed input\n",
    "\n",
    "  0. it intantiates a distributional layer of posterior distributions, regardless of the input batch size\n",
    "\n",
    "    ```\n",
    "# Line 121: q = self._posterior(inputs) \n",
    "DVL = tfp.layers.DenseVariational(1, posterior_mean_field, prior_trainable, \n",
    "                                       kl_weight=1/x_train.shape[0])\n",
    "batch_size=10\n",
    "DVL(np.array(batch_size*[[0.]])) # initialize `call(.)`\n",
    "DVL._posterior(np.array(batch_size*[[0.]])) \n",
    "# size 2 since this includes beta_0 and \\beta_1 (offset b and weight w)\n",
    "    ```\n",
    "\n",
    "  1. It calculates KL-divergence either exactly or \"approximately\" using a single sample from  $q(\\theta)$, i.e.,\n",
    "\n",
    "   $$KL[\\, q(\\theta) \\, || \\,  p(\\theta) \\, ] = \\int log \\frac{q(\\theta)}{p(\\theta)} q(\\theta) d \\theta \\quad \\text{ or } \\quad KL[\\, q(\\theta) \\, || \\,  p(\\theta) \\, ] \\approx log \\frac{q(\\theta^*)}{p(\\theta^*)}, \\text{with } \\theta^* \\sim q(\\theta)$$\n",
    "\n",
    "   depending on the setting of `use_exact_kl=[True|False]`, and adds it to the model loss\n",
    "\n",
    "    ```\n",
    "# 123: self.add_loss(self._kl_divergence_fn(q, r))\n",
    "# where `self._kl_divergence_fn(q, r)` is either\n",
    "# 156: kl_divergence_fn = kullback_leibler.kl_divergence\n",
    "# or `def kl_divergence_fn(distribution_a, distribution_b)` as\n",
    "# 151: test_points_fn=tf.convert_to_tensor\n",
    "# 159: z = test_points_fn(distribution_a)\n",
    "# 161: distribution_a.log_prob(z) - distribution_b.log_prob(z)\n",
    "tf.convert_to_tensor(DVL._posterior(np.array(batch_size*[[0.]])))\n",
    "    ```\n",
    "\n",
    "  2. It actualizes a layer of weights as single sample observations from the distributional layer of posterior distributions\n",
    "\n",
    "    ```\n",
    "# 125: w = tf.convert_to_tensor(value=q)\n",
    "# https://www.tensorflow.org/probability/api_docs/python/tfp/layers/DistributionLambda\n",
    "# defines `convert_to_tensor_fn=tfp.distributions.Distribution.sample`\n",
    "# replace  `scale = 0.2 + ...` with `scale = 200 + ...` in posterior_mean_field\n",
    "# and see if `w*input+b` is based on `posterior_mean_field` or `prior_trainable`\n",
    "DVL = tfp.layers.DenseVariational(1, posterior_mean_field, prior_trainable, \n",
    "                                  kl_weight=1/x_train.shape[0])\n",
    "DVL(np.array(batch_size*[[0.]]))\n",
    "    ```"
   ]
  },
  {
   "cell_type": "code",
   "execution_count": 9,
   "metadata": {
    "colab": {
     "base_uri": "https://localhost:8080/"
    },
    "id": "JZqFgyIG_dVQ",
    "outputId": "e8a4063b-97b9-46bb-cbc9-7724cb7edcdb"
   },
   "outputs": [
    {
     "name": "stdout",
     "output_type": "stream",
     "text": [
      "\r",
      "1/5 [=====>........................] - ETA: 3s - loss: 105.5667\n",
      "batch 0: 105.56666564941406[<tf.Tensor 'sequential/dense_variational/kldivergence_loss/batch_total_kl_divergence:0' shape=() dtype=float32>]\n",
      "\n",
      "batch 1: 111.70921325683594[<tf.Tensor 'sequential/dense_variational/kldivergence_loss/batch_total_kl_divergence:0' shape=() dtype=float32>]\n",
      "\n",
      "batch 2: 124.49939727783203[<tf.Tensor 'sequential/dense_variational/kldivergence_loss/batch_total_kl_divergence:0' shape=() dtype=float32>]\n",
      "\n",
      "batch 3: 107.1360092163086[<tf.Tensor 'sequential/dense_variational/kldivergence_loss/batch_total_kl_divergence:0' shape=() dtype=float32>]\n",
      "\n",
      "batch 4: 99.61274719238281\n",
      "[<tf.Tensor 'sequential/dense_variational/kldivergence_loss/batch_total_kl_divergence:0' shape=() dtype=float32>]\n",
      "5/5 [==============================] - 1s 69ms/step - loss: 99.6127 - val_loss: 72.4990\n"
     ]
    },
    {
     "data": {
      "text/plain": [
       "<keras.callbacks.History at 0x7f6d19c6fc10>"
      ]
     },
     "execution_count": 9,
     "metadata": {},
     "output_type": "execute_result"
    }
   ],
   "source": [
    "# `kl_weight=1/n` is wrong; but, this will be addressed and corrected below\n",
    "model3 = tf.keras.Sequential([\n",
    "  tfp.layers.DenseVariational(1, posterior_mean_field, prior_trainable,\n",
    "                              kl_weight=1/n), # use_bias=False\n",
    "  tfp.layers.DistributionLambda(lambda t: tfd.Normal(loc=t[:,:1], scale=3)) # constant variance\n",
    "])\n",
    "# To use the `bias_size=0` default of `posterior_mean_field` and `prior_trainable`\n",
    "# `use_bias=False` must be passed to `tfp.layers.DenseVariational`\n",
    "# otherwise `bias_size=units` (first argument) will be passed forward and used\n",
    "\n",
    "def negloglik(y, py):\n",
    "  return -py.log_prob(y)\n",
    "model3.compile(optimizer=tf.optimizers.Adam(learning_rate=0.05), loss=negloglik)\n",
    "\n",
    "# https://keras.io/api/losses/#the-addloss-api\n",
    "# - `loss=negloglik` is different from the model's `.losses` attribute\n",
    "# - `.losses` attributes include additional loss terms, e.g., KL-divergence \n",
    "# \"These losses are cleared by the top-level layer at the start of each forward pass\"\n",
    "# \"So layer.losses always contain only the losses created during the last forward pass.\"\n",
    "# However, this `TrackLosses` definition, then, does not work as expected\n",
    "# https://www.tensorflow.org/guide/keras/custom_callback#usage_of_selfmodel_attribute\n",
    "class TrackLosses(tf.keras.callbacks.Callback):\n",
    "    def on_train_batch_end(self, batch, logs={}):\n",
    "        print(self.model.losses)\n",
    "# This callback lets us see \"loss\" calcualations for each back\n",
    "# where \"loss\" now means `loss=negloglik` + `.losses` so to speak\n",
    "loss_callback = tf.keras.callbacks.LambdaCallback( \n",
    "  on_batch_end=lambda batch,logs: \n",
    "  print(\"\\nbatch \"+str(batch) + \": \" + str(logs[\"loss\"]), end='\\n'*(batch==4))\n",
    ")\n",
    "\n",
    "# `y_train[:, np.newaxis]` rather than `y_train` because\n",
    "# `negloglik(y_train[:, np.newaxis], model3(x_train))` works\n",
    "# `negloglik(y_train, model3(x_train))` does not work\n",
    "model3.fit(x_train, y_train[:, np.newaxis], \n",
    "           validation_data=(x_train, y_train[:, np.newaxis]),\n",
    "           epochs=1, verbose=True, \n",
    "           callbacks=[loss_callback, TrackLosses()])\n",
    "# regarding default `batch_size=None` the documentation says \n",
    "# \"if unspecified, batch_size will default to 32.\""
   ]
  },
  {
   "cell_type": "code",
   "execution_count": 10,
   "metadata": {
    "colab": {
     "base_uri": "https://localhost:8080/"
    },
    "id": "d8H59Vjr6mAs",
    "outputId": "3aadcc31-65fd-4c14-bbb0-570213e487fe"
   },
   "outputs": [
    {
     "data": {
      "text/plain": [
       "(305.72635, 19306.125)"
      ]
     },
     "execution_count": 10,
     "metadata": {},
     "output_type": "execute_result"
    }
   ],
   "source": [
    "# loss is actually being retained as average loss\n",
    "negloglik(y_train[:,np.newaxis], model3(x_train)).numpy().mean(), negloglik(y_train[:,np.newaxis], model3(x_train)).numpy().sum()"
   ]
  },
  {
   "cell_type": "code",
   "execution_count": 11,
   "metadata": {
    "colab": {
     "base_uri": "https://localhost:8080/"
    },
    "id": "ZTge7_Ty6rfq",
    "outputId": "099effdb-22a8-4793-ec84-9c85361b278f"
   },
   "outputs": [
    {
     "data": {
      "text/plain": [
       "[<tf.Tensor: shape=(), dtype=float32, numpy=-0.0029499992>]"
      ]
     },
     "execution_count": 11,
     "metadata": {},
     "output_type": "execute_result"
    }
   ],
   "source": [
    "# the losses is only filled out when model is called externally to `.fit`\n",
    "model3.losses"
   ]
  },
  {
   "cell_type": "code",
   "execution_count": 59,
   "metadata": {
    "id": "EKr26Oovhs_W"
   },
   "outputs": [],
   "source": [
    "# To gain access to both `loss=negloglik` and `.losses` terms\n",
    "# we slightly modify the default training code\n",
    "# https://github.com/keras-team/keras/blob/master/keras/engine/training.py#L753\n",
    "# https://keras.io/guides/customizing_what_happens_in_fit/\n",
    "\n",
    "loss_tracker = tf.keras.metrics.Mean(name=\"loss\")\n",
    "nll_tracker = tf.keras.metrics.Mean(name=\"negloglike\")\n",
    "KL_tracker = tf.keras.metrics.Mean(name=\"KL-div\")\n",
    "class ModelPrintingLosses(tf.keras.Model):\n",
    "\n",
    "  @property\n",
    "  def metrics(self):\n",
    "    # We list our `Metric` objects here so that `reset_states()` can be\n",
    "    # called automatically at the start of each epoch\n",
    "    # or at the start of `evaluate()`.\n",
    "    # If you don't implement this property, you have to call\n",
    "    # `reset_states()` yourself at the time of your choosing.\n",
    "    return [loss_tracker, nll_tracker, KL_tracker]\n",
    "\n",
    "  def train_step(self, data):\n",
    "    x, y = data # `sample_weight` removed\n",
    "    # Run forward pass.\n",
    "    with tf.GradientTape() as tape:\n",
    "      y_pred = self(x, training=True)\n",
    "      loss = self.compiled_loss(y, y_pred, regularization_losses=self.losses) # `sample_weight` remove\n",
    "\n",
    "    if self.loss and y is None:\n",
    "      raise TypeError(\n",
    "          f'Target data is missing. Your model has `loss`: {self.loss}, '\n",
    "          'and therefore expects target data to be passed in `fit()`.')\n",
    "    # Run backwards pass.\n",
    "    self.optimizer.minimize(loss, self.trainable_variables, tape=tape)\n",
    "    #self.compiled_metrics.update_state(y, y_pred) # `sample_weight` removed\n",
    "    \n",
    "    # these will return running averages, reset for each new epoch\n",
    "    nll = self.loss(y, y_pred)\n",
    "    nll_tracker.update_state(nll)\n",
    "    kld = self.losses[0]\n",
    "    KL_tracker.update_state(kld)\n",
    "    loss_tracker.update_state(tf.reduce_mean(nll)+kld)\n",
    "    # so while the batch calculations sum, the running averages need not\n",
    "\n",
    "    # Collect metrics to return\n",
    "    return_metrics = {}\n",
    "    for metric in self.metrics:\n",
    "      result = metric.result()\n",
    "      if isinstance(result, dict):\n",
    "        return_metrics.update(result)\n",
    "      else:\n",
    "        return_metrics[metric.name] = result\n",
    "    return return_metrics"
   ]
  },
  {
   "cell_type": "markdown",
   "metadata": {
    "id": "Jn4_OzxNDIMB"
   },
   "source": [
    "When performing gradient descent with an epoch of $j=1,\\cdots, J$ batches, the features $x_j$ of the $j^{th}$ batch $(x_j,y_j)$ \n",
    "1. are input to the `DenseVariational` layer, resulting in a single exact or approximate calculation of $KL[\\, q(\\theta) \\, || \\,  p(\\theta) \\, ]$ then weighted by `kl_weight` and then stored in the model's `self.losses`\n",
    "2. then multiplied through the `DenseVariational` layer actualized with a sample from $\\theta_j^* \\sim q(\\theta)$ of the distributions of the layer \n",
    "3. subsequently defining $p(y_j|\\theta_j^*,x_j)$ which when evaluated on the outcomes $y_j$ gives the negative log likelihood of the samples in batch $j$ for the $\\theta_j^*$ instantiated for batch $j$\n",
    "  - and the average negative log likelihoods for all samples in batch $j$ is calculated with `tf.reduce_mean` applied to `loss=negloklik`, and this is then added to the (previously `kl_weight`'ed) `self.losses`\n",
    "  - and a gradient descent step is made on this basis of this loss for batch $j$.\n",
    "\n",
    "Under this framework the objective \n",
    "\n",
    "$$\\min_q -E_{q(\\theta)}[\\log p(y|\\theta,x)] + KL[\\, q(\\theta) \\, || \\, p(\\theta) \\,]$$\n",
    "\n",
    "is thus approximated with the loss for batch $j$ which is the summation of \n",
    "\n",
    "1. a \"single draw\" Monte Carlo estimate of $-\\frac{1}{n_j}E_{q(\\theta)}[\\log p(y|\\theta)]$ for batch $j$\n",
    "  - $\\displaystyle -  \\sum_{i=1}^{n_j} \\frac{1}{n_j} \\log p(y_{ij}|\\theta_j^*,x_{ij}) \\; \\text{ where } \\; \\theta_j^* \\sim p(\\theta) \\; \\text{ and } \\; \\frac{1}{n_j} \\approx \\frac{J}{n}$\n",
    "2. and one $KL[\\, q(\\theta) \\, || \\, p(\\theta) \\,]$ term to be weighted by `kl_weight`\n",
    "  - which requires a `kl_weight` of $\\frac{1}{n_j} \\approx \\frac{J}{n}$ so that it is appropriately proportionally represented relative to $-\\frac{1}{n_j}E_{q(\\theta)}[\\log p(y|\\theta)]$ with respect to the objective function of interest.\n",
    "\n",
    "This issue is correctly noted here: \n",
    "https://github.com/tensorflow/probability/issues/396#issuecomment-537492051"
   ]
  },
  {
   "cell_type": "code",
   "execution_count": 60,
   "metadata": {
    "colab": {
     "base_uri": "https://localhost:8080/"
    },
    "id": "HD0wC1OG6Jb-",
    "outputId": "12d610f1-bbe5-4af8-b3a3-8857374856fd"
   },
   "outputs": [
    {
     "name": "stdout",
     "output_type": "stream",
     "text": [
      "Epoch 1/10\n",
      "1/5 [=====>........................] - ETA: 2s - loss: 247.6707 - negloglike: 247.6755 - KL-div: -0.0048\n",
      "batch 0: 247.6707: 247.67554: -0.004841948\n",
      "batch 1: 381.73282: 381.73425: -0.0014423769\n",
      "batch 2: 261.45255: 261.45523: -0.0027145732\n",
      "batch 3: 210.09172: 210.096: -0.004279083\n",
      "batch 4: 189.44397: 194.94687: 0.005882173\n",
      "5/5 [==============================] - 1s 3ms/step - loss: 189.4440 - negloglike: 194.9469 - KL-div: 0.0059\n",
      "Epoch 2/10\n",
      "1/5 [=====>........................] - ETA: 0s - loss: 470.6747 - negloglike: 470.6927 - KL-div: -0.0181\n",
      "batch 0: 470.67465: 470.69275: -0.018098084\n",
      "batch 1: 279.73163: 279.72943: 0.0022159657\n",
      "batch 2: 248.09465: 248.10156: -0.006896941\n",
      "batch 3: 204.7993: 204.80399: -0.00466102\n",
      "batch 4: 242.86954: 232.72563: -0.009390461\n",
      "5/5 [==============================] - 0s 4ms/step - loss: 242.8695 - negloglike: 232.7256 - KL-div: -0.0094\n",
      "Epoch 3/10\n",
      "1/5 [=====>........................] - ETA: 0s - loss: 32.6664 - negloglike: 32.6566 - KL-div: 0.0098\n",
      "batch 0: 32.666386: 32.65655: 0.009832566\n",
      "batch 1: 29.919632: 29.907637: 0.011993814\n",
      "batch 2: 59.6191: 59.612385: 0.006710101\n",
      "batch 3: 54.29843: 54.2867: 0.011727962\n",
      "batch 4: 56.660206: 56.01841: 0.012075655\n",
      "5/5 [==============================] - 0s 4ms/step - loss: 56.6602 - negloglike: 56.0184 - KL-div: 0.0121\n",
      "Epoch 4/10\n",
      "1/5 [=====>........................] - ETA: 0s - loss: 24.6156 - negloglike: 24.5945 - KL-div: 0.0211\n",
      "batch 0: 24.615587: 24.594473: 0.021113843\n",
      "batch 1: 22.787674: 22.769703: 0.017969355\n",
      "batch 2: 28.179758: 28.163286: 0.016471418\n",
      "batch 3: 40.171707: 40.161118: 0.010589445\n",
      "batch 4: 38.485214: 38.921818: 0.014048983\n",
      "5/5 [==============================] - 0s 4ms/step - loss: 38.4852 - negloglike: 38.9218 - KL-div: 0.0140\n",
      "Epoch 5/10\n",
      "1/5 [=====>........................] - ETA: 0s - loss: 50.3092 - negloglike: 50.2846 - KL-div: 0.0245\n",
      "batch 0: 50.309155: 50.284637: 0.024515837\n",
      "batch 1: 37.063087: 37.03868: 0.024409559\n",
      "batch 2: 52.58461: 52.55382: 0.030786397\n",
      "batch 3: 45.442867: 45.41456: 0.028311279\n",
      "batch 4: 43.32712: 43.86314: 0.02813268\n",
      "5/5 [==============================] - 0s 3ms/step - loss: 43.3271 - negloglike: 43.8631 - KL-div: 0.0281\n",
      "Epoch 6/10\n",
      "1/5 [=====>........................] - ETA: 0s - loss: 32.8907 - negloglike: 32.8706 - KL-div: 0.0201\n",
      "batch 0: 32.890705: 32.87059: 0.020113727\n",
      "batch 1: 30.992989: 30.966087: 0.026901256\n",
      "batch 2: 42.7954: 42.78549: 0.009909393\n",
      "batch 3: 37.282814: 37.270462: 0.012350223\n",
      "batch 4: 48.74899: 45.67661: 0.015600788\n",
      "5/5 [==============================] - 0s 3ms/step - loss: 48.7490 - negloglike: 45.6766 - KL-div: 0.0156\n",
      "Epoch 7/10\n",
      "1/5 [=====>........................] - ETA: 0s - loss: 34.1366 - negloglike: 34.1424 - KL-div: -0.0058\n",
      "batch 0: 34.136585: 34.142426: -0.005840167\n",
      "batch 1: 36.565475: 36.55541: 0.010068476\n",
      "batch 2: 35.180958: 35.167343: 0.013614844\n",
      "batch 3: 36.029938: 36.015537: 0.014399638\n",
      "batch 4: 36.629383: 36.456753: 0.012184152\n",
      "5/5 [==============================] - 0s 4ms/step - loss: 36.6294 - negloglike: 36.4568 - KL-div: 0.0122\n",
      "Epoch 8/10\n",
      "1/5 [=====>........................] - ETA: 0s - loss: 57.8612 - negloglike: 57.8662 - KL-div: -0.0049\n",
      "batch 0: 57.861233: 57.866158: -0.0049241865\n",
      "batch 1: 50.638165: 50.638237: -7.257471e-05\n",
      "batch 2: 54.552353: 54.555737: -0.0033805796\n",
      "batch 3: 49.169884: 49.17056: -0.0006721596\n",
      "batch 4: 46.89302: 47.49814: 0.0030387514\n",
      "5/5 [==============================] - 0s 4ms/step - loss: 46.8930 - negloglike: 47.4981 - KL-div: 0.0030\n",
      "Epoch 9/10\n",
      "1/5 [=====>........................] - ETA: 0s - loss: 75.7883 - negloglike: 75.8044 - KL-div: -0.0161\n",
      "batch 0: 75.78834: 75.8044: -0.016063564\n",
      "batch 1: 54.46572: 54.467396: -0.0016746856\n",
      "batch 2: 43.94734: 43.943253: 0.004087725\n",
      "batch 3: 48.020756: 48.015335: 0.0054214015\n",
      "batch 4: 41.655388: 43.346066: 0.007240781\n",
      "5/5 [==============================] - 0s 3ms/step - loss: 41.6554 - negloglike: 43.3461 - KL-div: 0.0072\n",
      "Epoch 10/10\n",
      "1/5 [=====>........................] - ETA: 0s - loss: 22.0357 - negloglike: 22.0211 - KL-div: 0.0146\n",
      "batch 0: 22.035685: 22.021132: 0.014553401\n",
      "batch 1: 25.628803: 25.613407: 0.015398318\n",
      "batch 2: 25.201803: 25.187569: 0.014236185\n",
      "batch 3: 26.343624: 26.329544: 0.014081231\n",
      "batch 4: 25.950436: 26.04141: 0.013805928\n",
      "5/5 [==============================] - 0s 3ms/step - loss: 25.9504 - negloglike: 26.0414 - KL-div: 0.0138\n"
     ]
    },
    {
     "data": {
      "text/plain": [
       "<keras.callbacks.History at 0x7f6d129be450>"
      ]
     },
     "execution_count": 60,
     "metadata": {},
     "output_type": "execute_result"
    }
   ],
   "source": [
    "# regarding default `batch_size=None` the documentation says \n",
    "# \"if unspecified, batch_size will default to 32.\"\n",
    "J = int(n/32) + int((n%32)>0)\n",
    "model3 = tf.keras.Sequential([\n",
    "  tfp.layers.DenseVariational(1, posterior_mean_field, prior_trainable,\n",
    "                              kl_weight=J/n), # use_bias=False\n",
    "  tfp.layers.DistributionLambda(lambda t: tfd.Normal(loc=t[:,:1], scale=3)) # constant variance\n",
    "])\n",
    "\n",
    "loss_callback = tf.keras.callbacks.LambdaCallback( \n",
    "  on_batch_end=lambda batch,logs: \n",
    "  print(\"\\nbatch \"+str(batch) + \": \" + str(np.float32(logs[\"loss\"])) +\n",
    "        \": \" + str(np.float32(logs[\"negloglike\"])) +\n",
    "        \": \" + str(np.float32(logs[\"KL-div\"])), end='\\n'*(batch==4))\n",
    ")\n",
    "\n",
    "input = tf.keras.layers.Input(shape=(1,))\n",
    "model3 = ModelPrintingLosses(input, model3(input))\n",
    "model3.compile(optimizer=tf.optimizers.Adam(learning_rate=0.05), loss=negloglik)\n",
    "model3.fit(x_train, y_train[:, np.newaxis], \n",
    "           epochs=10, verbose=True, \n",
    "           callbacks=[loss_callback])"
   ]
  },
  {
   "cell_type": "code",
   "execution_count": 61,
   "metadata": {
    "colab": {
     "base_uri": "https://localhost:8080/"
    },
    "id": "40bMjFVc_gml",
    "outputId": "f603f95f-c616-4097-9064-6306e3251a00"
   },
   "outputs": [
    {
     "data": {
      "text/plain": [
       "<keras.callbacks.History at 0x7f6d12791510>"
      ]
     },
     "execution_count": 61,
     "metadata": {},
     "output_type": "execute_result"
    }
   ],
   "source": [
    "model3.fit(x_train, y_train[:, np.newaxis], epochs=100, verbose=False)"
   ]
  },
  {
   "cell_type": "code",
   "execution_count": 62,
   "metadata": {
    "colab": {
     "base_uri": "https://localhost:8080/",
     "height": 281
    },
    "id": "J1rIhx7U7OUl",
    "outputId": "015f41e3-c148-4eec-95f8-50b593144817"
   },
   "outputs": [
    {
     "data": {
      "image/png": "[encoded data removed]",
      "text/plain": [
       "<Figure size 432x288 with 1 Axes>"
      ]
     },
     "metadata": {
      "needs_background": "light"
     },
     "output_type": "display_data"
    }
   ],
   "source": [
    "plt.figure()\n",
    "plt.plot(x_train, y_train, 'b.', label=\"train\")\n",
    "for i in range(50):\n",
    "  pred = model3(x_test)\n",
    "  plt.plot(x_test, pred.mean(), 'r', linewidth=0.5)\n",
    "plt.title(\"Regression with consideration for epistemic uncertainty\")\n",
    "plt.legend()\n",
    "plt.show()"
   ]
  }
 ],
 "metadata": {
  "colab": {
   "collapsed_sections": [],
   "name": "MADE_comments.ipynb",
   "provenance": []
  },
  "kernelspec": {
   "display_name": "Python 3 (ipykernel)",
   "language": "python",
   "name": "python3"
  },
  "language_info": {
   "codemirror_mode": {
    "name": "ipython",
    "version": 3
   },
   "file_extension": ".py",
   "mimetype": "text/x-python",
   "name": "python",
   "nbconvert_exporter": "python",
   "pygments_lexer": "ipython3",
   "version": "3.9.5"
  }
 },
 "nbformat": 4,
 "nbformat_minor": 1
}
