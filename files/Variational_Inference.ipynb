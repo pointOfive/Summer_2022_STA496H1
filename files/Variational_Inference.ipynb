{
  "nbformat": 4,
  "nbformat_minor": 0,
  "metadata": {
    "colab": {
      "name": "Variational Inference",
      "provenance": [],
      "collapsed_sections": []
    },
    "kernelspec": {
      "name": "python3",
      "display_name": "Python 3"
    },
    "language_info": {
      "name": "python"
    }
  },
  "cells": [
    {
      "cell_type": "markdown",
      "metadata": {
        "id": "y5YCDDIyByqg"
      },
      "source": [
        "# Variational Inference"
      ]
    },
    {
      "cell_type": "markdown",
      "metadata": {
        "id": "qxtfZcHWscXy"
      },
      "source": [
        "Given observed data $\\mathbf{x}$ and latent variables $\\mathbf{z}$ ($\\mathbf{z}$ can be some model parameter), we are interested in approximating the posterior $p(\\mathbf{z}|\\mathbf{x})$ using a surrogate function $q(\\mathbf{z})$ that is almost as good. Assume $\\mathbf{z} \\sim p(\\mathbf{z})$ is the prior. \n",
        " \n",
        "**Aim**: minimize the KL-divergence $KL[q(\\mathbf{z}) || p(\\mathbf{z}|\\mathbf{x})] = E_{q}[\\log\\frac{q(\\mathbf{z})}{p(\\mathbf{z}|\\mathbf{x})}]$\n",
        "\n",
        "Since we don't know the posterior, derive\n",
        "\n",
        "$\n",
        "\\begin{align*}\n",
        "KL[q(\\mathbf{z}) || p(\\mathbf{z}|\\mathbf{x})] &= E_{q}[\\log\\frac{q(\\mathbf{z})}{p(\\mathbf{z}|\\mathbf{x})}] = E_{q}[\\log\\frac{q(\\mathbf{z})p(\\mathbf{x})}{p(\\mathbf{z},\\mathbf{x})}] \\\\\n",
        "&= \\underbrace{E_{q}[\\log\\frac{q(\\mathbf{z})}{p(\\mathbf{z},\\mathbf{x})}]}_{-ELBO} + \\underbrace{\\log p(\\mathbf{x})}_{\\text{evidence (fixed)}}\n",
        "\\end{align*}\n",
        "$\n",
        "\n",
        "Then we have $\\min_{q} KL = \\max_q ELBO$\n",
        "\n",
        "Note that since $KL[q(\\mathbf{z}) || p(\\mathbf{z}|\\mathbf{x})] \\ge 0$, \n",
        "we have $\\log p(\\mathbf{x}) \\ge ELBO = E_{q}[\\log\\frac{q(\\mathbf{z})}{p(\\mathbf{z},\\mathbf{x})}]$, which is the same as the derivation from Jenson's inequality. Or, from the reverse approach, we can get KL-divergence non-negative from the inequality. "
      ]
    },
    {
      "cell_type": "markdown",
      "metadata": {
        "id": "YphoMSvvadjQ"
      },
      "source": [
        "## References of Variational Inference\n",
        "\n",
        "* https://arxiv.org/abs/1601.00670\n",
        "\n",
        "* https://www.cs.princeton.edu/courses/archive/fall11/cos597C/lectures/variational-inference-i.pdf\n",
        "\n",
        "* https://www.youtube.com/watch?v=HxQ94L8n0vU&t=474s\n"
      ]
    },
    {
      "cell_type": "markdown",
      "metadata": {
        "id": "vSObTWZHB8wf"
      },
      "source": [
        "# Report on previous comments\n",
        "\n",
        "This section summarizes some key points from the comments from Professor Scott Schwartz about variational inference https://github.com/pointOfive/Haining-Tan/blob/main/MADE_comments.ipynb"
      ]
    },
    {
      "cell_type": "markdown",
      "metadata": {
        "id": "LqP4vIiqkj0N"
      },
      "source": [
        "## Set up\n",
        "\n",
        "Model: A simple linear regression $y \\sim N(\\beta_0 + \\beta_1x, \\sigma^2)$\n",
        "\n",
        "Model parameter: ${\\theta} = (\\beta_0, \\beta_1) \\sim p(\\theta)$ prior\n",
        "\n",
        "Variational inference on the model parameter:\n",
        "\n",
        "$\n",
        "\\begin{align*}\n",
        "\\underbrace{\\log p(y)}_{\\text{Fixed marginal}} = E_q[\\log p(y|\\theta)] + \\underbrace{E_q [\\log\\frac{q(\\theta)}{p(\\theta|y)}]}_{KL[q || p(\\theta|y)]} - \\underbrace{E_q[\\log \\frac{q(\\theta)}{p(\\theta)}]}_{KL[q || p(\\theta)]}\n",
        "\\end{align*}\n",
        "$\n",
        "\n",
        "where $q(\\theta)$ is the surrogate posterior used to approximate the true posterior $p(\\theta|y)$"
      ]
    },
    {
      "cell_type": "markdown",
      "metadata": {
        "id": "LBzKG6C0kWJp"
      },
      "source": [
        "I can see the trade-off between the three terms, but I am not sure about the second point. I think you mean the correction between the posterior and the prior, but I did not get the equation here. \n",
        "\n",
        ">2. a correction factor for wrongly integrating over $q(\\theta) \\approx p(\\theta|y) \\not = p(\\theta)$\n",
        "  - since $\\log p(y) = E_{p(\\theta)}[\\log p(y|\\theta)] \\not =  E_{p(\\theta|y)}[\\log p(y|\\theta)].$"
      ]
    },
    {
      "cell_type": "markdown",
      "metadata": {
        "id": "lnH-7EhZlCX2"
      },
      "source": [
        "## Implementation of DenseVariational Layer\n",
        "\n",
        "DenseVariational Layer in TFP approximates the posteror by minimizing the KL-divergence based on the variational inference equation above:\n",
        "\n",
        "$$KL[q|| p(\\theta|y)] = \\log p(y) + E_q[\\log \\frac{q(\\theta)}{p(\\theta)}] - E_q[\\log p(y|\\theta)]$$\n",
        "\n",
        "where the objective is $\\min_q E_q[\\log \\frac{q(\\theta)}{p(\\theta)}] - E_q[\\log p(y|\\theta)]$"
      ]
    },
    {
      "cell_type": "markdown",
      "metadata": {
        "id": "eYsMbdpxuero"
      },
      "source": [
        "* In my understanding, after approximating the posterior distribution for the model parameter $\\theta = (\\beta_0, \\beta_1)$, DenseVariational Layer draws and returns a distribution $N(\\hat\\beta_0 + \\hat\\beta_1x, \\sigma^2)$ from the posterior of $\\beta_0, \\beta_1$\n",
        "\n",
        "* TODO: loss calculation, really struggling here... Not quite see your point addressing the model.losses... \n",
        "\n",
        "* kl-weight should be averaged by the batch size since the kl-divergence is calculated by batch. "
      ]
    },
    {
      "cell_type": "markdown",
      "metadata": {
        "id": "aR4phxqqB2mk"
      },
      "source": [
        "# Gaussian Process"
      ]
    },
    {
      "cell_type": "markdown",
      "metadata": {
        "id": "-NyqLnT54k5Y"
      },
      "source": [
        "## Set up\n",
        "\n",
        "* Given a set $S$, a Gaussian process is a random variable collection $\\{X_s|s\\in S\\}$. It is a generalization of multivariate Gaussian distribution.\n",
        "\n",
        "* Property: Let $\\{s_1, s_2, ..., s_n\\} \\subset S$ be an arbitrary finite subset of $S$, let $\\{X_{s_1}, X_{s_2},... X_{s_n}\\}$ be a finite set of random variables indexed by $S$, then they follow multivariate Gaussian. \n",
        "\n",
        "* Can choose covariance/kernel function, only need to be symetric and positive-definite.\n"
      ]
    },
    {
      "cell_type": "markdown",
      "metadata": {
        "id": "17EboaDp-Yye"
      },
      "source": [
        "## Gaussian Process regression\n",
        "\n",
        "Given input $x_1,...,x_n$ and observations $y_1,...,y_n$, we are interested in estimating an unknown smooth relationship $y = f(x) + \\epsilon$, where $\\epsilon$ is a noise term. \n",
        "\n",
        "Model: \n",
        "* $f \\sim$ GaussianProcess($\\mu$, $K$), where $\\mu:S\\rightarrow R$ is the mean function and $K:S\\times S\\rightarrow R$ is the covariance/kernel function\n",
        "\n",
        "* $y_i \\sim  N(f(x_i), \\sigma^2), i=1,...,n$\n",
        "\n",
        "\n",
        "Let $\\boldsymbol{\\mu} = [\\mu(x_1), ...,\\mu(x_n)]$ and $\n",
        "\\mathbf{K} = \n",
        "\\begin{bmatrix}\n",
        "k(x_1,x_1) & \\dots & k(x_1,x_n)\\\\\n",
        "\\vdots & \\ddots & \\vdots\\\\\n",
        "k(x_n, x_1) & \\dots & k(x_n, x_n)\\\\\n",
        "\\end{bmatrix}\n",
        "$\n",
        "\n",
        "we have $(f(x_1), ..., f(x_n)) \\sim \\text{MultiGaussian}(\\boldsymbol{\\mu}, \\mathbf{K})$\n",
        "\n",
        "TODO: More details on GP posterior"
      ]
    },
    {
      "cell_type": "code",
      "metadata": {
        "id": "imecUVSy_L89"
      },
      "source": [
        "import numpy as np\n",
        "import matplotlib.pyplot as plt\n",
        "import tensorflow as tf\n",
        "import tensorflow_probability as tfp\n",
        "tfd = tfp.distributions\n",
        "tfb = tfp.bijectors"
      ],
      "execution_count": 9,
      "outputs": []
    },
    {
      "cell_type": "code",
      "metadata": {
        "colab": {
          "base_uri": "https://localhost:8080/",
          "height": 282
        },
        "id": "bVI_2Ivc_QvN",
        "outputId": "8c9ef434-d292-4b64-a00f-86b2e3e182c0"
      },
      "source": [
        "k = 1\n",
        "b = 5\n",
        "x_min = -50\n",
        "x_max = 50\n",
        "\n",
        "n = 150\n",
        "\n",
        "def aleatoric(x): # variablity function for a particular x\n",
        "  r = (x - x_min) / (x_max - x_min)\n",
        "  return 2 * r\n",
        "\n",
        "def generate_data(n):\n",
        "  x = (x_max - x_min) * np.random.rand(n) + x_min \n",
        "  noise = np.random.randn(n) * aleatoric(x)\n",
        "  y = (k * x * (1 + np.sin(x)) + b) + noise   # add some non-linearity and noise\n",
        "  x = x[..., np.newaxis] # convert to N * 1 matrix\n",
        "  return x, y\n",
        "\n",
        "x_train, y_train = generate_data(n)\n",
        "x_test, y_test = generate_data(n)\n",
        "\n",
        "plt.figure()\n",
        "plt.plot(x_train, y_train, \"b.\")"
      ],
      "execution_count": 2,
      "outputs": [
        {
          "output_type": "execute_result",
          "data": {
            "text/plain": [
              "[<matplotlib.lines.Line2D at 0x7f2485d8ce10>]"
            ]
          },
          "metadata": {},
          "execution_count": 2
        },
        {
          "output_type": "display_data",
          "data": {
            "image/png": "[encoded data removed]",
            "text/plain": [
              "<Figure size 432x288 with 1 Axes>"
            ]
          },
          "metadata": {
            "needs_background": "light"
          }
        }
      ]
    },
    {
      "cell_type": "markdown",
      "metadata": {
        "id": "PbMO-kNHckc9"
      },
      "source": [
        "### Build an exponential quadratic kernel\n",
        "\n",
        "$$K(x_1, x_2) =  \\sigma^2 \\exp(\\frac{||x_1 - x_2||^2}{\\lambda^2})$$\n",
        "\n",
        "where $\\sigma$ is the amplitude and $\\lambda$ is the length scale."
      ]
    },
    {
      "cell_type": "code",
      "metadata": {
        "id": "VeY9YS6g8Nc6"
      },
      "source": [
        "# Kernel function\n",
        "\n",
        "# \"should be a tf.keras.Layer with an @property \n",
        "# that late-binds variable parameters to a \n",
        "# tfp.positive_semidefinite_kernel.PositiveSemidefiniteKernel instance\"\n",
        "\n",
        "class kernel_fn(tf.keras.layers.Layer):\n",
        "  def __init__(self, **kwargs):\n",
        "    super(kernel_fn, self).__init__(**kwargs)\n",
        "    dtype = kwargs.get('dtype', None)\n",
        "    self._amplitude = self.add_variable(\n",
        "        initializer=tf.constant_initializer(0), dtype=dtype, name=\"a\"\n",
        "    )\n",
        "    self._length_scale = self.add_variable(\n",
        "        initializer=tf.constant_initializer(0), dtype=dtype, name=\"scale\"\n",
        "    )\n",
        "  def call(self, x): # will not be used\n",
        "    return x \n",
        "  @property\n",
        "  def kernel(self):\n",
        "    return tfp.math.psd_kernels.ExponentiatedQuadratic(\n",
        "        amplitude=tf.nn.softplus(self._amplitude),\n",
        "        length_scale=tf.nn.softplus(self._length_scale)\n",
        "    )"
      ],
      "execution_count": 4,
      "outputs": []
    },
    {
      "cell_type": "markdown",
      "metadata": {
        "id": "S8gIlHiqBWI7"
      },
      "source": [
        "### Build the GP model"
      ]
    },
    {
      "cell_type": "code",
      "metadata": {
        "colab": {
          "base_uri": "https://localhost:8080/"
        },
        "id": "PMEBbuvKBTEB",
        "outputId": "81ea90fa-4351-4858-bf2f-10b0a959e21e"
      },
      "source": [
        "# For stability\n",
        "# tf.keras.backend.set_floatx('float64')\n",
        "\n",
        "model = tf.keras.Sequential([\n",
        "  tf.keras.layers.InputLayer(input_shape=[1]),\n",
        "  tf.keras.layers.Dense(1, kernel_initializer='ones', use_bias=False),\n",
        "  tfp.layers.VariationalGaussianProcess(\n",
        "      num_inducing_points=40,\n",
        "      kernel_provider=kernel_fn(),\n",
        "      event_shape=[1],\n",
        "      inducing_index_points_initializer=tf.constant_initializer(\n",
        "          np.linspace(-50, 50, num=40, dtype=x_train.dtype)[..., np.newaxis]\n",
        "      ),\n",
        "      unconstrained_observation_noise_variance_initializer=(\n",
        "          tf.constant_initializer(np.array(0.54).astype(x_train.dtype))\n",
        "      )\n",
        "  )\n",
        "])\n"
      ],
      "execution_count": 5,
      "outputs": [
        {
          "output_type": "stream",
          "name": "stdout",
          "text": [
            "WARNING:tensorflow:From /usr/local/lib/python3.7/dist-packages/tensorflow_probability/python/distributions/distribution.py:346: calling GaussianProcess.__init__ (from tensorflow_probability.python.distributions.gaussian_process) with jitter is deprecated and will be removed after 2021-05-10.\n",
            "Instructions for updating:\n",
            "`jitter` is deprecated; please use `marginal_fn` directly.\n"
          ]
        },
        {
          "output_type": "stream",
          "name": "stderr",
          "text": [
            "/usr/local/lib/python3.7/dist-packages/keras/engine/base_layer.py:2223: UserWarning: `layer.add_variable` is deprecated and will be removed in a future version. Please use `layer.add_weight` method instead.\n",
            "  warnings.warn('`layer.add_variable` is deprecated and '\n",
            "/usr/local/lib/python3.7/dist-packages/tensorflow_probability/python/distributions/gaussian_process.py:364: UserWarning: Unable to detect statically whether the number of index_points is 1. As a result, defaulting to treating the marginal GP at `index_points` as a multivariate Gaussian. This makes some methods, like `cdf` unavailable.\n",
            "  'Unable to detect statically whether the number of index_points is '\n"
          ]
        }
      ]
    },
    {
      "cell_type": "markdown",
      "metadata": {
        "id": "NHsQO7ITMHh_"
      },
      "source": [
        "There are a faw warnings, I am not familar with the up to date implementation...\n",
        "\n"
      ]
    },
    {
      "cell_type": "code",
      "metadata": {
        "colab": {
          "base_uri": "https://localhost:8080/"
        },
        "id": "Cc6KPvwDMenY",
        "outputId": "bc5204a0-078e-41bc-8e66-34c4a3cafab8"
      },
      "source": [
        "# loss function for GP inference\n",
        "def loss(y, f):\n",
        "  return f.variational_loss(y, kl_weight=np.array(32, x_train.dtype)/x_train.shape[0])\n",
        "\n",
        "# train the model\n",
        "model.compile(optimizer=tf.optimizers.Adam(learning_rate=0.01), loss=loss)\n",
        "model.fit(x_train, y_train, epochs=1000, verbose=False)"
      ],
      "execution_count": 6,
      "outputs": [
        {
          "output_type": "stream",
          "name": "stderr",
          "text": [
            "/usr/local/lib/python3.7/dist-packages/tensorflow_probability/python/distributions/gaussian_process.py:364: UserWarning: Unable to detect statically whether the number of index_points is 1. As a result, defaulting to treating the marginal GP at `index_points` as a multivariate Gaussian. This makes some methods, like `cdf` unavailable.\n",
            "  'Unable to detect statically whether the number of index_points is '\n"
          ]
        },
        {
          "output_type": "execute_result",
          "data": {
            "text/plain": [
              "<keras.callbacks.History at 0x7f24813e99d0>"
            ]
          },
          "metadata": {},
          "execution_count": 6
        }
      ]
    },
    {
      "cell_type": "code",
      "metadata": {
        "colab": {
          "base_uri": "https://localhost:8080/",
          "height": 281
        },
        "id": "m0aJnbUeOV9E",
        "outputId": "a07a6d6d-3181-4936-84cc-55d2480cb84d"
      },
      "source": [
        "x_test = np.sort(x_test)\n",
        "gp = model(x_test)\n",
        "plt.figure()\n",
        "plt.plot(x_train, y_train, \"b.\")\n",
        "for i in range(5):\n",
        "  sample = gp.sample().numpy()\n",
        "  f = sample[..., 0]\n",
        "  plt.plot(x_test[..., 0], f, 'r')\n",
        "plt.title(\"Gaussian Process\")\n",
        "plt.show()"
      ],
      "execution_count": 32,
      "outputs": [
        {
          "output_type": "display_data",
          "data": {
            "image/png": "[encoded data removed]",
            "text/plain": [
              "<Figure size 432x288 with 1 Axes>"
            ]
          },
          "metadata": {
            "needs_background": "light"
          }
        }
      ]
    },
    {
      "cell_type": "markdown",
      "metadata": {
        "id": "UgJSM1eN3HwU"
      },
      "source": [
        "## References of Gaussian Process\n",
        "\n",
        "* https://blog.tensorflow.org/2019/03/regression-with-probabilistic-layers-in.html\n",
        "\n",
        "* https://www.tensorflow.org/probability/examples/Gaussian_Process_Regression_In_TFP\n",
        "\n",
        "* http://www.gaussianprocess.org/gpml/\n",
        "\n",
        "* https://www.youtube.com/watch?v=4vGiHC35j9s\n",
        "\n"
      ]
    }
  ]
}